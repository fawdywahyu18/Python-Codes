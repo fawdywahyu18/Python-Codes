{
 "cells": [
  {
   "cell_type": "code",
   "execution_count": 1,
   "id": "086fbb25",
   "metadata": {},
   "outputs": [
    {
     "output_type": "stream",
     "name": "stdout",
     "text": [
      "NO\n"
     ]
    }
   ],
   "source": [
    "# Problem 4A\n",
    "w = int(input())\n",
    "\n",
    "if (w % 2)==0 and w!=2:\n",
    "    print('YES')\n",
    "else:\n",
    "    print('NO')"
   ]
  },
  {
   "cell_type": "code",
   "execution_count": 34,
   "id": "4b93545c",
   "metadata": {},
   "outputs": [
    {
     "name": "stdout",
     "output_type": "stream",
     "text": [
      "4\n",
      "word\n",
      "word\n",
      "localization\n",
      "l10n\n",
      "internationalization\n",
      "i18n\n",
      "pneumonoultramicroscopicsilicovolcanoconiosis\n",
      "p43s\n"
     ]
    }
   ],
   "source": [
    "# Problem 71A\n",
    "n = int(input())\n",
    "\n",
    "for i in range(0,n):\n",
    "    string = str(input())\n",
    "    string = string.lower()\n",
    "    if len(string) > 10:\n",
    "        first = string[0]\n",
    "        last = string[-1]\n",
    "        length = str(len(string)-2)\n",
    "        ans = first + length + last\n",
    "        print(ans)\n",
    "    else:\n",
    "        print(string)"
   ]
  },
  {
   "cell_type": "code",
   "execution_count": 46,
   "id": "147942ea",
   "metadata": {},
   "outputs": [
    {
     "name": "stdout",
     "output_type": "stream",
     "text": [
      "2\n",
      "1 0 0\n",
      "0 1 1\n",
      "1\n"
     ]
    }
   ],
   "source": [
    "# Problem Team (213A)\n",
    "n = int(input())\n",
    "score = 0\n",
    "\n",
    "for i in range(0,n):\n",
    "    x = input()\n",
    "    x1 = int(x[0])\n",
    "    x2 = int(x[2])\n",
    "    x3 = int(x[4])\n",
    "    list1= [x1, x2, x3]\n",
    "    sum1 = sum(list1)\n",
    "    if sum1 >= 2:\n",
    "        score = score + 1\n",
    "    else:\n",
    "        score = score\n",
    "print(int(score))"
   ]
  },
  {
   "cell_type": "code",
   "execution_count": null,
   "id": "206d68a0",
   "metadata": {},
   "outputs": [],
   "source": [
    "# Problem 1517A\n",
    "def sum_2050(n):\n",
    "    s = n/2050\n",
    "    ans = 0\n",
    "    while s>0 :\n",
    "        a = s%10\n",
    "        ans = ans + a\n",
    "        s = int(s/10)\n",
    "    if (n%2050)!=0:\n",
    "        ans = -1\n",
    "    else:\n",
    "        ans = ans\n",
    "    return int(ans)\n",
    "\n",
    "\n",
    "t = int(input())\n",
    "\n",
    "for i in range(t):\n",
    "    n = int(input())\n",
    "    solution = sum_2050(n)\n",
    "    print(solution)"
   ]
  },
  {
   "cell_type": "code",
   "execution_count": 4,
   "id": "4facb532",
   "metadata": {},
   "outputs": [
    {
     "name": "stdout",
     "output_type": "stream",
     "text": [
      "2\n",
      "3 1\n",
      "3 1 4\n",
      "2 1 5\n",
      "2 10\n",
      "1 0\n",
      "0 1\n"
     ]
    }
   ],
   "source": [
    "# Problem 1516A\n",
    "t = int(input())\n",
    "\n",
    "for i in range(t):\n",
    "    input1 = input()\n",
    "    input_list = list(map(int,input1.split(' ')))\n",
    "    n = input_list[0]\n",
    "    k = input_list[1]\n",
    "\n",
    "    arr = input()\n",
    "    a = list(map(int,arr.split(' ')))\n",
    "    for s in range(n):\n",
    "        while k>0 and a[s]>0:\n",
    "            a[s] = a[s] - 1\n",
    "            a[n-1] = a[n-1] + 1\n",
    "            k = k - 1\n",
    "    print(' '.join(map(str, a)))\n"
   ]
  },
  {
   "cell_type": "code",
   "execution_count": 47,
   "id": "31c9125d",
   "metadata": {},
   "outputs": [
    {
     "name": "stdout",
     "output_type": "stream",
     "text": [
      "4\n",
      "1 1 0\n",
      "YES\n",
      "2 7 3\n",
      "YES\n",
      "6 1 4\n",
      "NO\n",
      "5 4 0\n",
      "NO\n"
     ]
    }
   ],
   "source": [
    "# Red and Blue Beans 1519A        \n",
    "t = int(input())\n",
    "\n",
    "for i in range(t):\n",
    "    input1 = input()\n",
    "    input1_list = list(map(int,input1.split(' ')))\n",
    "    d = input1_list[-1]\n",
    "    r = input1_list[0]\n",
    "    b = input1_list[1]\n",
    "    if abs(r - b) <= d:\n",
    "        print('YES')\n",
    "    else:\n",
    "        packets = min(r, b)\n",
    "        r = r/packets\n",
    "        b = b/packets\n",
    "        d_test= abs(r-b)\n",
    "        if d_test <= d:\n",
    "            print('YES')\n",
    "        else:\n",
    "            print('NO')"
   ]
  },
  {
   "cell_type": "code",
   "execution_count": 33,
   "id": "bab6e254",
   "metadata": {},
   "outputs": [
    {
     "name": "stdout",
     "output_type": "stream",
     "text": [
      "1\n",
      "3 4 11\n",
      "YES\n"
     ]
    }
   ],
   "source": [
    "# The cake is a lie 1519B\n",
    "t = int(input())\n",
    "\n",
    "for i in range(t):\n",
    "    input1 = input()\n",
    "    l = list(map(int,input1.split(' ')))\n",
    "    n = l[0]\n",
    "    m = l[1]\n",
    "    k = l[-1]\n",
    "    \n",
    "    \n",
    "    xbur = m-1\n",
    "    ybur = m*(n-1)\n",
    "    bur = xbur + ybur\n",
    "    if k==bur:\n",
    "        print('YES')\n",
    "    else:\n",
    "        print('NO')"
   ]
  },
  {
   "cell_type": "code",
   "execution_count": 11,
   "id": "357a4208",
   "metadata": {},
   "outputs": [
    {
     "name": "stdout",
     "output_type": "stream",
     "text": [
      "1 2 2 5 6\n",
      "1: 1\n"
     ]
    }
   ],
   "source": [
    "# Last minute enhancements 1466B\n",
    "t = int(input())\n",
    "for rep in range(t):\n",
    "    n = int(input())\n",
    "    input1 = input()\n",
    "    l = list(map(int,input1.split(' ')))\n",
    "    l.sort()\n",
    "\n",
    "    init = int(l[0])\n",
    "    i = 1\n",
    "    while i<n:\n",
    "        if init >= l[i]:\n",
    "            l[i] += 1\n",
    "        init = l[i]\n",
    "        i += 1\n",
    "\n",
    "    a_set = set(l)\n",
    "    number_of_unique_values = len(a_set)\n",
    "    print(number_of_unique_values)"
   ]
  },
  {
   "cell_type": "code",
   "execution_count": 20,
   "id": "6a1b2322",
   "metadata": {},
   "outputs": [
    {
     "ename": "IndexError",
     "evalue": "list index out of range",
     "output_type": "error",
     "traceback": [
      "\u001b[1;31m---------------------------------------------------------------------------\u001b[0m",
      "\u001b[1;31mIndexError\u001b[0m                                Traceback (most recent call last)",
      "\u001b[1;32m<ipython-input-20-a84c95fd7ff3>\u001b[0m in \u001b[0;36m<module>\u001b[1;34m\u001b[0m\n\u001b[0;32m     46\u001b[0m         \u001b[0minit\u001b[0m \u001b[1;33m=\u001b[0m \u001b[0mp\u001b[0m\u001b[1;33m[\u001b[0m\u001b[0mi\u001b[0m\u001b[1;33m]\u001b[0m\u001b[1;33m\u001b[0m\u001b[1;33m\u001b[0m\u001b[0m\n\u001b[0;32m     47\u001b[0m         \u001b[0mfow\u001b[0m \u001b[1;33m=\u001b[0m \u001b[0mi\u001b[0m\u001b[1;33m+\u001b[0m\u001b[1;36m1\u001b[0m\u001b[1;33m\u001b[0m\u001b[1;33m\u001b[0m\u001b[0m\n\u001b[1;32m---> 48\u001b[1;33m         \u001b[1;32mif\u001b[0m \u001b[0minit\u001b[0m \u001b[1;33m>\u001b[0m \u001b[0mp\u001b[0m\u001b[1;33m[\u001b[0m\u001b[0mfow\u001b[0m\u001b[1;33m]\u001b[0m\u001b[1;33m:\u001b[0m\u001b[1;33m\u001b[0m\u001b[1;33m\u001b[0m\u001b[0m\n\u001b[0m\u001b[0;32m     49\u001b[0m             \u001b[0mpeak\u001b[0m \u001b[1;33m+=\u001b[0m \u001b[1;36m0.5\u001b[0m\u001b[1;33m\u001b[0m\u001b[1;33m\u001b[0m\u001b[0m\n\u001b[0;32m     50\u001b[0m         \u001b[0mi\u001b[0m \u001b[1;33m+=\u001b[0m \u001b[1;36m1\u001b[0m\u001b[1;33m\u001b[0m\u001b[1;33m\u001b[0m\u001b[0m\n",
      "\u001b[1;31mIndexError\u001b[0m: list index out of range"
     ]
    }
   ],
   "source": [
    "# Array and Peaks 1513A\n",
    "#Python function to print permutations of a given list\n",
    "\n",
    "def permutation(lst):\n",
    "  \n",
    "    # If lst is empty then there are no permutations\n",
    "    if len(lst) == 0:\n",
    "        return []\n",
    "  \n",
    "    # If there is only one element in lst then, only\n",
    "    # one permuatation is possible\n",
    "    if len(lst) == 1:\n",
    "        return [lst]\n",
    "  \n",
    "    # Find the permutations for lst if there are\n",
    "    # more than 1 characters\n",
    "  \n",
    "    l = [] # empty list that will store current permutation\n",
    "  \n",
    "    # Iterate the input(lst) and calculate the permutation\n",
    "    for i in range(len(lst)):\n",
    "       m = lst[i]\n",
    "  \n",
    "       # Extract lst[i] or m from the list.  remLst is\n",
    "       # remaining list\n",
    "       remLst = lst[:i] + lst[i+1:]\n",
    "  \n",
    "       # Generating all permutations where m is first\n",
    "       # element\n",
    "       for p in permutation(remLst):\n",
    "           l.append([m] + p)\n",
    "    return l\n",
    "  \n",
    "  \n",
    "# Driver program to test above function\n",
    "data = [1, 2, 3, 4]\n",
    "n = len(data)\n",
    "k = 2\n",
    "for p in permutation(data):\n",
    "    print(p)\n",
    "    \n",
    "        "
   ]
  },
  {
   "cell_type": "code",
   "execution_count": 24,
   "id": "58769af1",
   "metadata": {},
   "outputs": [
    {
     "name": "stdout",
     "output_type": "stream",
     "text": [
      "1 0\n"
     ]
    }
   ],
   "source": [
    "input1 = input()\n",
    "l = list(map(int,input1.split(' ')))\n",
    "n = l[0]\n",
    "k = l[1]\n",
    "ans = []\n",
    "\n",
    "if k > (n-1)/2:\n",
    "    print(-1)\n",
    "\n",
    "if k == 0 :\n",
    "    print(n)\n"
   ]
  },
  {
   "cell_type": "code",
   "execution_count": 17,
   "id": "5d6296f7",
   "metadata": {},
   "outputs": [
    {
     "name": "stdout",
     "output_type": "stream",
     "text": [
      "5 2\n",
      "1 5 2 4 3\n"
     ]
    },
    {
     "ename": "IndexError",
     "evalue": "list index out of range",
     "output_type": "error",
     "traceback": [
      "\u001b[1;31m---------------------------------------------------------------------------\u001b[0m",
      "\u001b[1;31mIndexError\u001b[0m                                Traceback (most recent call last)",
      "\u001b[1;32m<ipython-input-17-a0e4497dca10>\u001b[0m in \u001b[0;36m<module>\u001b[1;34m\u001b[0m\n\u001b[0;32m     16\u001b[0m \u001b[1;32melse\u001b[0m\u001b[1;33m:\u001b[0m\u001b[1;33m\u001b[0m\u001b[1;33m\u001b[0m\u001b[0m\n\u001b[0;32m     17\u001b[0m     \u001b[0mprint\u001b[0m\u001b[1;33m(\u001b[0m\u001b[1;33m-\u001b[0m\u001b[1;36m1\u001b[0m\u001b[1;33m)\u001b[0m\u001b[1;33m\u001b[0m\u001b[1;33m\u001b[0m\u001b[0m\n\u001b[1;32m---> 18\u001b[1;33m \u001b[0mprint\u001b[0m\u001b[1;33m(\u001b[0m\u001b[0mans\u001b[0m\u001b[1;33m[\u001b[0m\u001b[1;36m5\u001b[0m\u001b[1;33m]\u001b[0m\u001b[1;33m)\u001b[0m\u001b[1;33m\u001b[0m\u001b[1;33m\u001b[0m\u001b[0m\n\u001b[0m",
      "\u001b[1;31mIndexError\u001b[0m: list index out of range"
     ]
    }
   ],
   "source": [
    "input1 = input()\n",
    "l = list(map(int,input1.split(' ')))\n",
    "n = l[0]\n",
    "k = l[1]\n",
    "ans = [0] * n\n",
    "\n",
    "if n >= 2*k+1:\n",
    "    for i in range(0,k):\n",
    "        ans[2*i+1] = n - i\n",
    "    j = 1\n",
    "    for i in range(0,n):\n",
    "        if ans[i]==0:\n",
    "            ans[i]=j\n",
    "            j += 1\n",
    "    print(' '.join(map(str, ans)))\n",
    "else:\n",
    "    print(-1)"
   ]
  },
  {
   "cell_type": "code",
   "execution_count": 14,
   "id": "01cd1463",
   "metadata": {},
   "outputs": [
    {
     "name": "stdout",
     "output_type": "stream",
     "text": [
      "4\n",
      "4\n",
      "11 13 11 11\n",
      "2\n",
      "5\n",
      "1 4 4 4 4\n",
      "1\n",
      "10\n",
      "3 3 3 3 10 3 3 3 3 3\n",
      "5\n",
      "3\n",
      "20 20 10\n",
      "3\n"
     ]
    }
   ],
   "source": [
    "# Problem 1512A\n",
    "t = int(input())\n",
    "for t in range(t):\n",
    "    n = int(input())\n",
    "    input1 = input()\n",
    "    l = list(map(int,input1.split(' ')))\n",
    "\n",
    "    for u in l:\n",
    "        hitung = l.count(u)\n",
    "        if hitung==1:\n",
    "            ele = u\n",
    "    ans = (l.index(ele)) + 1\n",
    "    print(ans)\n",
    "\n"
   ]
  },
  {
   "cell_type": "code",
   "execution_count": 109,
   "id": "e7d296dd",
   "metadata": {},
   "outputs": [
    {
     "name": "stdout",
     "output_type": "stream",
     "text": [
      "1\n",
      "10 9 9 9\n",
      "8\n"
     ]
    }
   ],
   "source": [
    "# Problem 1492A\n",
    "t = int(input())\n",
    "for t in range(t):\n",
    "    input1 = input()\n",
    "    l = list(map(int,input1.split(' ')))\n",
    "    p = l[0]\n",
    "    a = l[1]\n",
    "    b = l[2]\n",
    "    c = l[3]\n",
    "\n",
    "    if p % a==0 or p%b==0 or p%c==0:\n",
    "        print(0)\n",
    "    else:\n",
    "        ans = min(a - (p % a), min(b - (p % b), c - (p % c)))\n",
    "        print(ans)"
   ]
  },
  {
   "cell_type": "code",
   "execution_count": 38,
   "id": "62d78f04",
   "metadata": {},
   "outputs": [
    {
     "name": "stdout",
     "output_type": "stream",
     "text": [
      "3\n",
      "AAB\n",
      "YES ['A']\n"
     ]
    }
   ],
   "source": [
    "# Problem 1520A\n",
    "for t in range(int(input())):\n",
    "    n = int(input())\n",
    "    p = input()\n",
    "    l = []\n",
    "    flag = False\n",
    "    for i in range(0, n-1):\n",
    "        if p[i] != p[i+1]:\n",
    "            if p[i+1] not in l:\n",
    "                l.append(p[i])\n",
    "            else:\n",
    "                flag=True\n",
    "                break\n",
    "    if flag:\n",
    "        print('NO')\n",
    "    else:\n",
    "        print('YES')"
   ]
  },
  {
   "cell_type": "code",
   "execution_count": 4,
   "id": "b407f5ca",
   "metadata": {},
   "outputs": [
    {
     "name": "stdout",
     "output_type": "stream",
     "text": [
      "4\n",
      "BRBG\n",
      "0\n"
     ]
    }
   ],
   "source": [
    "# Problem 266A\n",
    "n = int(input())\n",
    "l = input()\n",
    "awal = l[0]\n",
    "score = 0\n",
    "for i in range(1, n):\n",
    "    if awal == l[i]:\n",
    "        score += 1\n",
    "    awal = l[i]\n",
    "print(score)"
   ]
  },
  {
   "cell_type": "code",
   "execution_count": 2,
   "id": "a96e037e",
   "metadata": {},
   "outputs": [
    {
     "name": "stdout",
     "output_type": "stream",
     "text": [
      "1\n",
      "2 3\n",
      "5\n"
     ]
    }
   ],
   "source": [
    "# Problem 1351A\n",
    "for t in range(int(input())):\n",
    "    input1 = input()\n",
    "    l = list(map(int,input1.split(' ')))\n",
    "    a = l[0]\n",
    "    b = l[1]\n",
    "    print(a+b)"
   ]
  },
  {
   "cell_type": "code",
   "execution_count": 5,
   "id": "e7b712d0",
   "metadata": {},
   "outputs": [
    {
     "name": "stdout",
     "output_type": "stream",
     "text": [
      "1\n",
      "6\n",
      "2 1 3 2 4 3\n",
      "0\n"
     ]
    }
   ],
   "source": [
    "# Problem 1360B\n",
    "for t in range(int(input())):\n",
    "    n = int(input())\n",
    "    input1 = input()\n",
    "    l = list(map(int,input1.split(' ')))\n",
    "    l.sort()\n",
    "    l_diff = []\n",
    "    awal = l[0]\n",
    "    for i in range(1,n):\n",
    "        diff = abs(awal - l[i])\n",
    "        l_diff.append(diff)\n",
    "        awal = l[i]\n",
    "    print(min(l_diff))"
   ]
  },
  {
   "cell_type": "code",
   "execution_count": 5,
   "id": "45c37151",
   "metadata": {},
   "outputs": [
    {
     "output_type": "stream",
     "name": "stdout",
     "text": [
      "abac\n",
      "ac\n",
      "bcdaf\n",
      "zzzzzz\n"
     ]
    }
   ],
   "source": [
    "# Problem 1367A\n",
    "for t in range(int(input())):\n",
    "    l = input()\n",
    "    sub_l = [l[i:i+2] for i in range(0,len(l), 2)]\n",
    "    ans = []\n",
    "    for e in sub_l:\n",
    "        first = e[0]\n",
    "        ans.append(first)\n",
    "    ans.insert(len(ans), l[-1])\n",
    "    print(''.join(map(str, ans)))"
   ]
  },
  {
   "cell_type": "code",
   "execution_count": null,
   "id": "8e4bd408",
   "metadata": {},
   "outputs": [],
   "source": []
  }
 ],
 "metadata": {
  "kernelspec": {
   "name": "python392jvsc74a57bd0db1a8c55cd8c57749aba357ad6d7f02ea33a41f5335b95db64c81822b40200a7",
   "display_name": "Python 3.9.2 64-bit"
  },
  "language_info": {
   "codemirror_mode": {
    "name": "ipython",
    "version": 3
   },
   "file_extension": ".py",
   "mimetype": "text/x-python",
   "name": "python",
   "nbconvert_exporter": "python",
   "pygments_lexer": "ipython3",
   "version": "3.9.2"
  }
 },
 "nbformat": 4,
 "nbformat_minor": 5
}